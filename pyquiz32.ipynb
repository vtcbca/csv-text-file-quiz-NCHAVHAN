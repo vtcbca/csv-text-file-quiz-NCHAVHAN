{
 "cells": [
  {
   "cell_type": "code",
   "execution_count": 1,
   "id": "e22c7815",
   "metadata": {},
   "outputs": [],
   "source": [
    "import csv"
   ]
  },
  {
   "cell_type": "code",
   "execution_count": 2,
   "id": "7f3eeeca",
   "metadata": {},
   "outputs": [],
   "source": [
    "def getstaff_record():\n",
    "    stid=int(input(\"Enter Staff ID:\"))\n",
    "    stname=input(\"Eter Staff Name:\")\n",
    "    salary=int(input(\"Enetr Salary:\"))\n",
    "    return(stid,stname,salary)"
   ]
  },
  {
   "cell_type": "code",
   "execution_count": 8,
   "id": "47bf9459",
   "metadata": {},
   "outputs": [],
   "source": [
    "# Create \"salary.csv\" with the specified content\n",
    "data = [\n",
    "    [\"stid\", \"stname\", \"salary\"],\n",
    "    [2, \"nikhil\", 4000],\n",
    "    [5, \"pritesh\", 4200],\n",
    "    [8, \"prem\", 3800],\n",
    "    [12, \"uday\", 4500],\n",
    "    [15, \"kishan\", 4100]\n",
    "]\n",
    "\n",
    "with open(\"salary.csv\", \"w\", newline=\"\") as csvfile:\n",
    "    writer = csv.writer(csvfile)\n",
    "    writer.writerows(data)\n"
   ]
  },
  {
   "cell_type": "code",
   "execution_count": 13,
   "id": "a8158a01",
   "metadata": {},
   "outputs": [
    {
     "name": "stdout",
     "output_type": "stream",
     "text": [
      "15,kishan,4100\n"
     ]
    }
   ],
   "source": [
    "# Read CSV file, filter and count \"k\" names\n",
    "k_count = 0\n",
    "total_records = 0\n",
    "\n",
    "with open(\"salary.csv\", \"r\") as csvfile:\n",
    "    reader = csv.reader(csvfile)\n",
    "    next(reader)  \n",
    "    for row in reader:\n",
    "        total_records += 1\n",
    "        if row[1].startswith(\"k\") or row[1].startswith(\"k\"):\n",
    "            k_count += 1\n",
    "            print(\",\".join(row))\n"
   ]
  },
  {
   "cell_type": "code",
   "execution_count": 14,
   "id": "d9c31a7e",
   "metadata": {},
   "outputs": [
    {
     "name": "stdout",
     "output_type": "stream",
     "text": [
      "Number of 'k' names are 1/5\n"
     ]
    }
   ],
   "source": [
    "# Display the count of \"S\" names\n",
    "print(f\"Number of 'k' names are {k_count}/{total_records}\")\n"
   ]
  },
  {
   "cell_type": "code",
   "execution_count": null,
   "id": "c23076b3",
   "metadata": {},
   "outputs": [],
   "source": []
  }
 ],
 "metadata": {
  "kernelspec": {
   "display_name": "Python 3 (ipykernel)",
   "language": "python",
   "name": "python3"
  },
  "language_info": {
   "codemirror_mode": {
    "name": "ipython",
    "version": 3
   },
   "file_extension": ".py",
   "mimetype": "text/x-python",
   "name": "python",
   "nbconvert_exporter": "python",
   "pygments_lexer": "ipython3",
   "version": "3.11.4"
  }
 },
 "nbformat": 4,
 "nbformat_minor": 5
}
